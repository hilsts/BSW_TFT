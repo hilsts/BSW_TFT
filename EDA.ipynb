{
 "cells": [
  {
   "cell_type": "markdown",
   "metadata": {},
   "source": [
    "### Imports"
   ]
  },
  {
   "cell_type": "code",
   "execution_count": 3,
   "metadata": {},
   "outputs": [],
   "source": [
    "import pandas as pd\n",
    "import os\n",
    "\n"
   ]
  },
  {
   "cell_type": "code",
   "execution_count": 4,
   "metadata": {},
   "outputs": [
    {
     "data": {
      "text/plain": [
       "['TFT_Platinum_MatchData.csv',\n",
       " 'TFT_GrandMaster_MatchData.csv',\n",
       " 'TFT_Diamond_MatchData.csv',\n",
       " 'TFT_Master_MatchData.csv',\n",
       " 'TFT_Challenger_MatchData.csv']"
      ]
     },
     "execution_count": 4,
     "metadata": {},
     "output_type": "execute_result"
    }
   ],
   "source": [
    "PATH = 'data/'\n",
    "\n",
    "files = os.listdir(PATH)\n"
   ]
  },
  {
   "cell_type": "code",
   "execution_count": 7,
   "metadata": {},
   "outputs": [
    {
     "name": "stdout",
     "output_type": "stream",
     "text": [
      "len TFT_Platinum_MatchData.csv 80000\n",
      "{file} tem 10000\n",
      "len TFT_GrandMaster_MatchData.csv 80000\n",
      "{file} tem 10000\n",
      "len TFT_Diamond_MatchData.csv 80000\n",
      "{file} tem 10000\n",
      "len TFT_Master_MatchData.csv 79999\n",
      "{file} tem 10000\n",
      "len TFT_Challenger_MatchData.csv 79999\n",
      "{file} tem 10000\n"
     ]
    }
   ],
   "source": [
    "for file in files:\n",
    "    \n",
    "    df = pd.read_csv(PATH+file)\n",
    "    print('len {file} '.format(file=file) + str(len(df)))\n",
    "    print('{file} tem ' + str(len(df['gameId'].unique())))\n",
    "    "
   ]
  },
  {
   "cell_type": "code",
   "execution_count": 6,
   "metadata": {},
   "outputs": [
    {
     "data": {
      "text/html": [
       "<div>\n",
       "<style scoped>\n",
       "    .dataframe tbody tr th:only-of-type {\n",
       "        vertical-align: middle;\n",
       "    }\n",
       "\n",
       "    .dataframe tbody tr th {\n",
       "        vertical-align: top;\n",
       "    }\n",
       "\n",
       "    .dataframe thead th {\n",
       "        text-align: right;\n",
       "    }\n",
       "</style>\n",
       "<table border=\"1\" class=\"dataframe\">\n",
       "  <thead>\n",
       "    <tr style=\"text-align: right;\">\n",
       "      <th></th>\n",
       "      <th>gameId</th>\n",
       "      <th>gameDuration</th>\n",
       "      <th>level</th>\n",
       "      <th>lastRound</th>\n",
       "      <th>Ranked</th>\n",
       "      <th>ingameDuration</th>\n",
       "      <th>combination</th>\n",
       "      <th>champion</th>\n",
       "    </tr>\n",
       "  </thead>\n",
       "  <tbody>\n",
       "    <tr>\n",
       "      <th>0</th>\n",
       "      <td>KR_4247538593</td>\n",
       "      <td>2142.470703</td>\n",
       "      <td>8</td>\n",
       "      <td>35</td>\n",
       "      <td>1</td>\n",
       "      <td>2134.272217</td>\n",
       "      <td>{'DarkStar': 2, 'Protector': 4, 'Rebel': 1, 'S...</td>\n",
       "      <td>{'JarvanIV': {'items': [27], 'star': 3}, 'Sona...</td>\n",
       "    </tr>\n",
       "    <tr>\n",
       "      <th>1</th>\n",
       "      <td>KR_4247538593</td>\n",
       "      <td>2142.470703</td>\n",
       "      <td>9</td>\n",
       "      <td>35</td>\n",
       "      <td>2</td>\n",
       "      <td>2134.272217</td>\n",
       "      <td>{'Blaster': 2, 'Mercenary': 1, 'Rebel': 6, 'Se...</td>\n",
       "      <td>{'Malphite': {'items': [7], 'star': 2}, 'Yasuo...</td>\n",
       "    </tr>\n",
       "    <tr>\n",
       "      <th>2</th>\n",
       "      <td>KR_4247538593</td>\n",
       "      <td>2142.470703</td>\n",
       "      <td>8</td>\n",
       "      <td>34</td>\n",
       "      <td>3</td>\n",
       "      <td>2073.459229</td>\n",
       "      <td>{'Cybernetic': 1, 'DarkStar': 3, 'Demolitionis...</td>\n",
       "      <td>{'KaiSa': {'items': [99, 2, 23], 'star': 2}, '...</td>\n",
       "    </tr>\n",
       "    <tr>\n",
       "      <th>3</th>\n",
       "      <td>KR_4247538593</td>\n",
       "      <td>2142.470703</td>\n",
       "      <td>8</td>\n",
       "      <td>33</td>\n",
       "      <td>4</td>\n",
       "      <td>1998.146729</td>\n",
       "      <td>{'Blaster': 1, 'Cybernetic': 1, 'DarkStar': 1,...</td>\n",
       "      <td>{'KaiSa': {'items': [44, 37], 'star': 2}, 'Ann...</td>\n",
       "    </tr>\n",
       "    <tr>\n",
       "      <th>4</th>\n",
       "      <td>KR_4247538593</td>\n",
       "      <td>2142.470703</td>\n",
       "      <td>9</td>\n",
       "      <td>33</td>\n",
       "      <td>5</td>\n",
       "      <td>1986.443237</td>\n",
       "      <td>{'Blaster': 2, 'Demolitionist': 2, 'Mercenary'...</td>\n",
       "      <td>{'Ziggs': {'items': [], 'star': 1}, 'Yasuo': {...</td>\n",
       "    </tr>\n",
       "    <tr>\n",
       "      <th>...</th>\n",
       "      <td>...</td>\n",
       "      <td>...</td>\n",
       "      <td>...</td>\n",
       "      <td>...</td>\n",
       "      <td>...</td>\n",
       "      <td>...</td>\n",
       "      <td>...</td>\n",
       "      <td>...</td>\n",
       "    </tr>\n",
       "    <tr>\n",
       "      <th>79994</th>\n",
       "      <td>KR_4357265434</td>\n",
       "      <td>2094.518555</td>\n",
       "      <td>7</td>\n",
       "      <td>33</td>\n",
       "      <td>4</td>\n",
       "      <td>1838.332764</td>\n",
       "      <td>{'DarkStar': 2, 'Demolitionist': 2, 'Infiltrat...</td>\n",
       "      <td>{'KhaZix': {'items': [67, 26, 56], 'star': 2},...</td>\n",
       "    </tr>\n",
       "    <tr>\n",
       "      <th>79995</th>\n",
       "      <td>KR_4357265434</td>\n",
       "      <td>2094.518555</td>\n",
       "      <td>8</td>\n",
       "      <td>33</td>\n",
       "      <td>5</td>\n",
       "      <td>1837.548096</td>\n",
       "      <td>{'Blaster': 1, 'Chrono': 2, 'Cybernetic': 6, '...</td>\n",
       "      <td>{'Fiora': {'items': [35], 'star': 2}, 'Leona':...</td>\n",
       "    </tr>\n",
       "    <tr>\n",
       "      <th>79996</th>\n",
       "      <td>KR_4357265434</td>\n",
       "      <td>2094.518555</td>\n",
       "      <td>9</td>\n",
       "      <td>33</td>\n",
       "      <td>6</td>\n",
       "      <td>1833.472046</td>\n",
       "      <td>{'Chrono': 2, 'Cybernetic': 1, 'Demolitionist'...</td>\n",
       "      <td>{'TwistedFate': {'items': [], 'star': 2}, 'Mal...</td>\n",
       "    </tr>\n",
       "    <tr>\n",
       "      <th>79997</th>\n",
       "      <td>KR_4357265434</td>\n",
       "      <td>2094.518555</td>\n",
       "      <td>8</td>\n",
       "      <td>31</td>\n",
       "      <td>7</td>\n",
       "      <td>1730.829712</td>\n",
       "      <td>{'Blaster': 4, 'Chrono': 2, 'Cybernetic': 1, '...</td>\n",
       "      <td>{'Malphite': {'items': [], 'star': 1}, 'Graves...</td>\n",
       "    </tr>\n",
       "    <tr>\n",
       "      <th>79998</th>\n",
       "      <td>KR_4357265434</td>\n",
       "      <td>2094.518555</td>\n",
       "      <td>6</td>\n",
       "      <td>27</td>\n",
       "      <td>8</td>\n",
       "      <td>1480.288086</td>\n",
       "      <td>{'ManaReaver': 2, 'Protector': 2, 'Set3_Celest...</td>\n",
       "      <td>{'Darius': {'items': [14, 33, 36], 'star': 2},...</td>\n",
       "    </tr>\n",
       "  </tbody>\n",
       "</table>\n",
       "<p>79999 rows × 8 columns</p>\n",
       "</div>"
      ],
      "text/plain": [
       "              gameId  gameDuration  level  lastRound  Ranked  ingameDuration  \\\n",
       "0      KR_4247538593   2142.470703      8         35       1     2134.272217   \n",
       "1      KR_4247538593   2142.470703      9         35       2     2134.272217   \n",
       "2      KR_4247538593   2142.470703      8         34       3     2073.459229   \n",
       "3      KR_4247538593   2142.470703      8         33       4     1998.146729   \n",
       "4      KR_4247538593   2142.470703      9         33       5     1986.443237   \n",
       "...              ...           ...    ...        ...     ...             ...   \n",
       "79994  KR_4357265434   2094.518555      7         33       4     1838.332764   \n",
       "79995  KR_4357265434   2094.518555      8         33       5     1837.548096   \n",
       "79996  KR_4357265434   2094.518555      9         33       6     1833.472046   \n",
       "79997  KR_4357265434   2094.518555      8         31       7     1730.829712   \n",
       "79998  KR_4357265434   2094.518555      6         27       8     1480.288086   \n",
       "\n",
       "                                             combination  \\\n",
       "0      {'DarkStar': 2, 'Protector': 4, 'Rebel': 1, 'S...   \n",
       "1      {'Blaster': 2, 'Mercenary': 1, 'Rebel': 6, 'Se...   \n",
       "2      {'Cybernetic': 1, 'DarkStar': 3, 'Demolitionis...   \n",
       "3      {'Blaster': 1, 'Cybernetic': 1, 'DarkStar': 1,...   \n",
       "4      {'Blaster': 2, 'Demolitionist': 2, 'Mercenary'...   \n",
       "...                                                  ...   \n",
       "79994  {'DarkStar': 2, 'Demolitionist': 2, 'Infiltrat...   \n",
       "79995  {'Blaster': 1, 'Chrono': 2, 'Cybernetic': 6, '...   \n",
       "79996  {'Chrono': 2, 'Cybernetic': 1, 'Demolitionist'...   \n",
       "79997  {'Blaster': 4, 'Chrono': 2, 'Cybernetic': 1, '...   \n",
       "79998  {'ManaReaver': 2, 'Protector': 2, 'Set3_Celest...   \n",
       "\n",
       "                                                champion  \n",
       "0      {'JarvanIV': {'items': [27], 'star': 3}, 'Sona...  \n",
       "1      {'Malphite': {'items': [7], 'star': 2}, 'Yasuo...  \n",
       "2      {'KaiSa': {'items': [99, 2, 23], 'star': 2}, '...  \n",
       "3      {'KaiSa': {'items': [44, 37], 'star': 2}, 'Ann...  \n",
       "4      {'Ziggs': {'items': [], 'star': 1}, 'Yasuo': {...  \n",
       "...                                                  ...  \n",
       "79994  {'KhaZix': {'items': [67, 26, 56], 'star': 2},...  \n",
       "79995  {'Fiora': {'items': [35], 'star': 2}, 'Leona':...  \n",
       "79996  {'TwistedFate': {'items': [], 'star': 2}, 'Mal...  \n",
       "79997  {'Malphite': {'items': [], 'star': 1}, 'Graves...  \n",
       "79998  {'Darius': {'items': [14, 33, 36], 'star': 2},...  \n",
       "\n",
       "[79999 rows x 8 columns]"
      ]
     },
     "execution_count": 6,
     "metadata": {},
     "output_type": "execute_result"
    }
   ],
   "source": [
    "df "
   ]
  },
  {
   "cell_type": "code",
   "execution_count": 2,
   "metadata": {},
   "outputs": [
    {
     "name": "stdout",
     "output_type": "stream",
     "text": [
      "1\n",
      "2\n"
     ]
    }
   ],
   "source": [
    "l = [1, 2, 3]\n",
    "\n",
    "for i in l[:2]:\n",
    "    print(i)"
   ]
  }
 ],
 "metadata": {
  "kernelspec": {
   "display_name": "Python 3",
   "language": "python",
   "name": "python3"
  },
  "language_info": {
   "codemirror_mode": {
    "name": "ipython",
    "version": 3
   },
   "file_extension": ".py",
   "mimetype": "text/x-python",
   "name": "python",
   "nbconvert_exporter": "python",
   "pygments_lexer": "ipython3",
   "version": "3.8.5"
  }
 },
 "nbformat": 4,
 "nbformat_minor": 4
}
